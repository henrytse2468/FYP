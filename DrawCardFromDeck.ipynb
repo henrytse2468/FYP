{
  "nbformat": 4,
  "nbformat_minor": 0,
  "metadata": {
    "colab": {
      "provenance": [],
      "collapsed_sections": []
    },
    "kernelspec": {
      "name": "python3",
      "display_name": "Python 3"
    },
    "language_info": {
      "name": "python"
    }
  },
  "cells": [
    {
      "cell_type": "code",
      "execution_count": null,
      "metadata": {
        "colab": {
          "base_uri": "https://localhost:8080/"
        },
        "id": "LIVl7DiWwsjT",
        "outputId": "c31b4ce5-0ef1-4348-ff5b-aef13d84674e"
      },
      "outputs": [
        {
          "output_type": "stream",
          "name": "stdout",
          "text": [
            "[10, 34, 13, 42, 14, 44]\n"
          ]
        }
      ],
      "source": [
        "import random\n",
        "markSix=[]\n",
        "\n",
        "while len(markSix) < 6:\n",
        "  x = random.randint(1,49)\n",
        "  if x in markSix:\n",
        "    continue\n",
        "  else:\n",
        "    markSix.append(x)\n",
        "print(markSix)"
      ]
    },
    {
      "cell_type": "code",
      "source": [
        "import random\n",
        "import numpy as np\n",
        "markSix = np.zeros(6, dtype=int)\n",
        "ball = np.arange(1, 50)\n",
        "\n",
        "markSix = np.random.choice(ball,6,replace=False)\n",
        "print(markSix)"
      ],
      "metadata": {
        "colab": {
          "base_uri": "https://localhost:8080/",
          "height": 0
        },
        "id": "J79Ye1oOv_cT",
        "outputId": "6716d654-70f4-45e1-f0f1-13f8c370fe7c"
      },
      "execution_count": 52,
      "outputs": [
        {
          "output_type": "stream",
          "name": "stdout",
          "text": [
            "[ 1 31 48 45 44 19]\n"
          ]
        }
      ]
    },
    {
      "cell_type": "code",
      "source": [
        "import random\n",
        "\n",
        "class Card():\n",
        "    def __init__(self, name, suit):\n",
        "        self.name = name\n",
        "        self.suit = suit\n",
        "\n",
        "class Deck():\n",
        "    def __init__(self):\n",
        "        self.cards = []\n",
        "        \n",
        "        names = (\"Ace\", \"King\", \"Queen\", \"Jack\", \"10\", \"09\", \"08\", \"07\", \"06\", \"05\", \"04\", \"03\", \"02\")\n",
        "        suits = (\"Diamond\", \"Club\", \"Heart\", \"Spade\")\n",
        "        \n",
        "        for name in names:\n",
        "            for suit in suits:\n",
        "                card = Card(name, suit)\n",
        "                self.cards.append(card)\n",
        "    \n",
        "    def get_card(self):\n",
        "        random.shuffle(self.cards)\n",
        "        card = self.cards.pop()\n",
        "        #print(card.name,card.suit)\n",
        "        return card\n",
        "\n",
        "deck = Deck()\n",
        "print(\"How many players?\")\n",
        "players = int(input())\n",
        "print(\"How many cards for each player?\")\n",
        "cardsPerPlayer = int(input())\n",
        "while players * cardsPerPlayer > len(deck.cards):\n",
        "  print(\"Incorrect Input, please input again!\")\n",
        "  print(\"How many players?\")\n",
        "  players = input()\n",
        "  print(\"How many cards for each player?\")\n",
        "  cardsPerPlayer = input()\n",
        "\n",
        "for i in range(0, players):\n",
        "  print(\"Player\", i+1, \"'s hand:\")\n",
        "  print(\"{:<5} {:<8} {:<8}\".format(\"\", \"suit\", \"number\"))\n",
        "  for j in range(0, cardsPerPlayer):\n",
        "    getCard = deck.get_card()\n",
        "    print(\"{:<5} {:<8} {:<8}\".format(j, getCard.suit, getCard.name))\n"
      ],
      "metadata": {
        "colab": {
          "base_uri": "https://localhost:8080/",
          "height": 0
        },
        "id": "qbqcCWpCydPf",
        "outputId": "f32a2665-705b-44e6-9f3a-dcefa218ca5b"
      },
      "execution_count": 53,
      "outputs": [
        {
          "output_type": "stream",
          "name": "stdout",
          "text": [
            "How many players?\n",
            "3\n",
            "How many cards for each player?\n",
            "3\n",
            "Player 1 's hand:\n",
            "      suit     number  \n",
            "0     Spade    07      \n",
            "1     Spade    09      \n",
            "2     Spade    08      \n",
            "Player 2 's hand:\n",
            "      suit     number  \n",
            "0     Heart    02      \n",
            "1     Spade    10      \n",
            "2     Spade    06      \n",
            "Player 3 's hand:\n",
            "      suit     number  \n",
            "0     Heart    10      \n",
            "1     Heart    09      \n",
            "2     Heart    07      \n"
          ]
        }
      ]
    },
    {
      "cell_type": "code",
      "source": [
        "import pandas as pd\n",
        "import random\n",
        "cardnum = [\"Ace\", \"King\", \"Queen\", \"Jack\", \"10\", \"09\", \"08\", \"07\", \"06\", \"05\", \"04\", \"03\", \"02\"]\n",
        "cardnumName = []\n",
        "\n",
        "for i in range(4):\n",
        "  cardnumName += cardnum\n",
        "\n",
        "suits =['Space','Heart','Club','Diamond']\n",
        "suitName = []\n",
        "for i in range(4):\n",
        "  for j in range(13):\n",
        "    suitName += [suits[i]]\n",
        "\n",
        "cardData = {'suit':suitName,'number': cardnumName}\n",
        "cardSet=pd.DataFrame(cardData)\n",
        "index = np.arange(0, 52)\n",
        "\n",
        "\n",
        "print(\"How many players?\")\n",
        "players = int(input())\n",
        "print(\"How many cards for each player?\")\n",
        "cardsPerPlayer = int(input())\n",
        "while players * cardsPerPlayer > len(deck.cards):\n",
        "  print(\"Incorrect Input, please input again!\")\n",
        "  print(\"How many players?\")\n",
        "  players = input()\n",
        "  print(\"How many cards for each player?\")\n",
        "  cardsPerPlayer = input()\n",
        "\n",
        "playersCard=[]\n",
        "for player in range(players):\n",
        "  drawedData = {'suit':[], 'number':[]}\n",
        "  drawed = pd.DataFrame(drawedData)\n",
        "  for i in range(cardsPerPlayer):\n",
        "    drawIndex = random.randint(0, len(cardSet.index)-1)\n",
        "    drawed.loc[i] = cardSet.loc[drawIndex]\n",
        "    cardSet.drop(drawIndex, inplace=True)\n",
        "    cardSet.reset_index(drop=True, inplace=True)\n",
        "  playersCard.append(drawed)\n",
        "\n",
        "i=1\n",
        "for playerhand in playersCard:\n",
        "  print(\"Player \" + str(i) + \"'s hand:\")\n",
        "  i += 1\n",
        "  print(playerhand)\n",
        "  print()"
      ],
      "metadata": {
        "colab": {
          "base_uri": "https://localhost:8080/"
        },
        "id": "ugp4SUBj50qY",
        "outputId": "66c76190-4e5a-472a-c740-d6bd99a153da"
      },
      "execution_count": 56,
      "outputs": [
        {
          "output_type": "stream",
          "name": "stdout",
          "text": [
            "How many players?\n",
            "3\n",
            "How many cards for each player?\n",
            "3\n",
            "Player 1's hand:\n",
            "      suit number\n",
            "0    Space    Ace\n",
            "1    Space   King\n",
            "2  Diamond     08\n",
            "\n",
            "Player 2's hand:\n",
            "    suit number\n",
            "0  Space     05\n",
            "1   Club    Ace\n",
            "2  Space     08\n",
            "\n",
            "Player 3's hand:\n",
            "      suit number\n",
            "0  Diamond     07\n",
            "1    Space     09\n",
            "2    Heart     06\n",
            "\n"
          ]
        }
      ]
    }
  ]
}